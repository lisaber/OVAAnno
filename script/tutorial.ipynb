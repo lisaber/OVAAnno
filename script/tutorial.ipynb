{
 "cells": [
  {
   "cell_type": "code",
   "execution_count": 1,
   "metadata": {},
   "outputs": [
    {
     "name": "stderr",
     "output_type": "stream",
     "text": [
      "/public1/home/lyf/anaconda3/envs/atac_self/lib/python3.9/site-packages/tqdm/auto.py:22: TqdmWarning: IProgress not found. Please update jupyter and ipywidgets. See https://ipywidgets.readthedocs.io/en/stable/user_install.html\n",
      "  from .autonotebook import tqdm as notebook_tqdm\n"
     ]
    }
   ],
   "source": [
    "from types import CellType\n",
    "import numpy as np\n",
    "import pandas as pd\n",
    "import os\n",
    "import scanpy as sc\n",
    "from model.dataset import load_train_dataset,load_test_dataset\n",
    "from model.model import Class_VAE\n",
    "from model.layers import LinearAverage,Logit_Linear\n",
    "from model.process_data import select_peak\n",
    "from utils.metric_compute import compute_EAS,compute_EAS_EpiAnno\n",
    "from sklearn import preprocessing\n",
    "from anndata import AnnData\n",
    "from utils.utils import set_seed,ForeverDataIterator,ForeverDataIteratorExtension\n",
    "import torch"
   ]
  },
  {
   "cell_type": "code",
   "execution_count": 16,
   "metadata": {},
   "outputs": [],
   "source": [
    "class argument():\n",
    "    def __init__(self,class_t,hard_weight,sample_weight,class_t_coff,class_coff) -> None:\n",
    "        self.class_t = class_t\n",
    "        self.sample_weight = sample_weight\n",
    "        self.hard_weight = hard_weight\n",
    "        self.class_t_coff = class_t_coff\n",
    "        self.class_coff = class_coff"
   ]
  },
  {
   "cell_type": "code",
   "execution_count": 17,
   "metadata": {},
   "outputs": [],
   "source": [
    "batch_size = 64\n",
    "binary = True # set False if data is scRNA-seq\n",
    "args = argument(True,False,True,1.0,1.0)\n",
    "lr = 0.0002\n",
    "epoch = 3\n",
    "threshold = 0.95"
   ]
  },
  {
   "cell_type": "code",
   "execution_count": 4,
   "metadata": {},
   "outputs": [],
   "source": [
    "set_seed()\n",
    "# read data\n",
    "train_adata = sc.read_h5ad(\"../../atac_class/EpiAnno_Forebrain.h5ad\")\n",
    "test_adata = sc.read_h5ad(\"../../atac_class/preprocess_mouse_brain.h5ad\")\n",
    "train_adata.X[train_adata.X > 0] = 1\n",
    "test_adata.X[test_adata.X > 0] = 1\n",
    "train_adata.obs['domain'] = 0\n",
    "test_adata.obs['domain'] = 1\n",
    "device = torch.device(0)"
   ]
  },
  {
   "cell_type": "code",
   "execution_count": 5,
   "metadata": {},
   "outputs": [
    {
     "name": "stdout",
     "output_type": "stream",
     "text": [
      "raw train data:AnnData object with n_obs × n_vars = 2088 × 436206\n",
      "    obs: 'CellType', 'batch', 'domain'\n",
      "    var: 'chrom', 'chromStart', 'chromEnd', 'name'\n",
      "raw test data:AnnData object with n_obs × n_vars = 17003 × 436206\n",
      "    obs: 'cell', 'tissue', 'tissue.replicate', 'cluster', 'subset_cluster', 'tsne_1', 'tsne_2', 'subset_tsne1', 'subset_tsne2', 'id', 'cell_label', 'CellType', 'domain'\n",
      "    var: 'chrom', 'chromStart', 'chromEnd', 'name'\n"
     ]
    },
    {
     "name": "stderr",
     "output_type": "stream",
     "text": [
      " ImplicitModificationWarning:/public1/home/lyf/anaconda3/envs/atac_self/lib/python3.9/site-packages/scanpy/preprocessing/_simple.py:251: Trying to modify attribute `.var` of view, initializing view as actual.\n",
      " ImplicitModificationWarning:/public1/home/lyf/anaconda3/envs/atac_self/lib/python3.9/site-packages/episcanpy/preprocessing/_quality_control.py:32: Trying to modify attribute `.var` of view, initializing view as actual.\n",
      " ImplicitModificationWarning:/public1/home/lyf/anaconda3/envs/atac_self/lib/python3.9/site-packages/scanpy/preprocessing/_simple.py:140: Trying to modify attribute `.obs` of view, initializing view as actual.\n"
     ]
    },
    {
     "name": "stdout",
     "output_type": "stream",
     "text": [
      "processed_atac:AnnData object with n_obs × n_vars = 1098 × 20000\n",
      "    obs: 'CellType', 'batch', 'domain', 'n_genes'\n",
      "    var: 'chrom', 'chromStart', 'chromEnd', 'name', 'n_cells', 'prop_shared_cells', 'variability_score'\n",
      "process test data:AnnData object with n_obs × n_vars = 17003 × 20000\n",
      "    obs: 'cell', 'tissue', 'tissue.replicate', 'cluster', 'subset_cluster', 'tsne_1', 'tsne_2', 'subset_tsne1', 'subset_tsne2', 'id', 'cell_label', 'CellType', 'domain', 'n_genes'\n",
      "    var: 'chrom', 'chromStart', 'chromEnd', 'name', 'n_cells'\n"
     ]
    },
    {
     "name": "stderr",
     "output_type": "stream",
     "text": [
      " DataConversionWarning:/public1/home/lyf/anaconda3/envs/atac_self/lib/python3.9/site-packages/sklearn/preprocessing/_label.py:133: A column-vector y was passed when a 1d array was expected. Please change the shape of y to (n_samples, ), for example using ravel().\n"
     ]
    }
   ],
   "source": [
    "#change cell tyep to num label and data preprocess\n",
    "one_hot = preprocessing.OneHotEncoder(sparse=False)\n",
    "le = preprocessing.LabelEncoder().fit(np.append(np.unique(train_adata.obs['CellType'].values),'unknown'))\n",
    "le_domain = one_hot.fit([[0],[1]])\n",
    "train_adata,test_adata = select_peak(train_adata,test_adata,peak_rate=0.001)\n",
    "train_adata.obs['Label'] = le.transform(np.array(train_adata.obs['CellType'].values).reshape(-1,1))\n",
    "test_adata.obs['Label'] = le.transform(np.array(test_adata.obs['CellType'].values).reshape(-1,1))"
   ]
  },
  {
   "cell_type": "code",
   "execution_count": 6,
   "metadata": {},
   "outputs": [],
   "source": [
    "#set data loader\n",
    "cell_num = train_adata.shape[0] \n",
    "input_dim = train_adata.shape[1]\n",
    "class_sample_counts = np.array(list(range(len(np.unique(train_adata.obs['Label'].values)))))\n",
    "for i in np.unique(train_adata.obs['Label'].values):\n",
    "    class_sample_counts[i] = len(train_adata[train_adata.obs['Label'].values == i])\n",
    "train_onehot = np.zeros((cell_num,len(np.unique(train_adata.obs['Label'].values))))\n",
    "for i in np.unique(train_adata.obs['Label'].values):\n",
    "    train_onehot[train_adata.obs['Label'].values == i,i] = 1\n",
    "\n",
    "weight = np.zeros(len(np.unique(train_adata.obs['Label'].values)))\n",
    "class_weight = np.zeros((cell_num,len(np.unique(train_adata.obs['Label'].values))))\n",
    "for i in np.unique(train_adata.obs['Label'].values):\n",
    "    class_weight[train_adata.obs['Label'].values != i,i] = 1\n",
    "    class_weight[train_adata.obs['Label'].values == i,i] = np.sum(class_sample_counts[list(range(len(np.unique(train_adata.obs['Label'].values)))) != i]) / class_sample_counts[i]\n",
    "    weight[i] = max(class_sample_counts) / class_sample_counts[i]\n",
    "train_loader = load_train_dataset(train_adata,weight=class_weight,onehotlabel=train_onehot,batch_size=batch_size,drop_last=False,num_workers=4,shuffle=True,sample=None)\n",
    "test_adata_loader_1 = load_train_dataset(test_adata,batch_size = batch_size,shuffle=True,drop_last=False,num_workers=4,sample=None)"
   ]
  },
  {
   "cell_type": "code",
   "execution_count": 7,
   "metadata": {},
   "outputs": [],
   "source": [
    "latent_dim = 32\n",
    "encode_dim = [3200,1600,800,400]\n",
    "class_dim = len(np.unique(train_adata.obs[\"CellType\"]))\n",
    "decode_dim = []\n",
    "dims = [input_dim, latent_dim,latent_dim, encode_dim,decode_dim]#VAE encoder and decoder layers\n",
    "c_dim = [latent_dim,class_dim]#open and close classifier layers"
   ]
  },
  {
   "cell_type": "code",
   "execution_count": 8,
   "metadata": {},
   "outputs": [],
   "source": [
    "train_iter = ForeverDataIteratorExtension(train_loader)\n",
    "test_iter = ForeverDataIterator(test_adata_loader_1)\n",
    "memory_bank = LinearAverage(inputSize=class_dim,outputSize=len(test_adata),device=device,threshold=np.ones((batch_size,class_dim)),celltype = test_adata.obs['Label'].values)"
   ]
  },
  {
   "cell_type": "code",
   "execution_count": 9,
   "metadata": {},
   "outputs": [
    {
     "name": "stderr",
     "output_type": "stream",
     "text": [
      " UserWarning:/public1/home/lyf/atac_class_c/script/model/model.py:158: torch.range is deprecated and will be removed in a future release because its behavior is inconsistent with Python's range builtin. Instead, use torch.arange, which produces values in [start, end).\n"
     ]
    }
   ],
   "source": [
    "#model training\n",
    "model = Class_VAE(dims,c_dim,dropout=0,binary = binary,finally_activate=None,num_class=class_dim,device=device)"
   ]
  },
  {
   "cell_type": "code",
   "execution_count": 19,
   "metadata": {},
   "outputs": [],
   "source": [
    "#model save path\n",
    "save_path = ''"
   ]
  },
  {
   "cell_type": "code",
   "execution_count": 21,
   "metadata": {},
   "outputs": [
    {
     "name": "stderr",
     "output_type": "stream",
     "text": [
      "Epochs:   0%|          | 0/3 [00:00<?, ?it/s] UserWarning:/public1/home/lyf/atac_class_c/script/model/model.py:233: Implicit dimension choice for softmax has been deprecated. Change the call to include dim=X as an argument.\n",
      "Epochs: 100%|██████████| 3/3 [00:01<00:00,  1.94it/s, recon 5778.181 kl 314.297 o_class=4.715 c_class=2.746 class_t=0.203 supLoss=0.000 center=0.000]\n"
     ]
    }
   ],
   "source": [
    "model.fit(args,train_iter = train_iter,\n",
    "            # val_loader=val_loader,\n",
    "            test_iter = test_iter,\n",
    "            lr=lr, \n",
    "            n = epoch,\n",
    "            weight_decay=5e-4,\n",
    "            savepath='../save_model/' + save_path,\n",
    "            imgpath = '../img/' + save_path,\n",
    "            device = device,\n",
    "            iter = len(train_loader),\n",
    "            memory_bank = memory_bank,\n",
    "            # memory_bank_s = memory_bank_s,\n",
    "            class_num = class_dim,\n",
    "            embedding_size = latent_dim,\n",
    "            # logit_save = logit_save\n",
    "            weight=weight,\n",
    "            threshold=threshold\n",
    "            )"
   ]
  },
  {
   "cell_type": "code",
   "execution_count": 22,
   "metadata": {},
   "outputs": [],
   "source": [
    "del train_loader\n",
    "del test_adata_loader_1\n",
    "test_adata_loader = load_test_dataset(test_adata,shuffle=False,drop_last=False)\n",
    "train_all_loader = load_test_dataset(train_adata,shuffle=False,drop_last=False)"
   ]
  },
  {
   "cell_type": "code",
   "execution_count": 26,
   "metadata": {},
   "outputs": [
    {
     "name": "stderr",
     "output_type": "stream",
     "text": [
      " UserWarning:/public1/home/lyf/anaconda3/envs/atac_self/lib/python3.9/site-packages/torch/nn/functional.py:1960: nn.functional.sigmoid is deprecated. Use torch.sigmoid instead.\n",
      " UserWarning:/public1/home/lyf/atac_class_c/script/model/model.py:373: Implicit dimension choice for softmax has been deprecated. Change the call to include dim=X as an argument.\n"
     ]
    }
   ],
   "source": [
    "#predict result and embedding of test dataset\n",
    "test_pred_label,test_prob,test_embedding = model.predict_class(test_adata_loader,device=device)"
   ]
  },
  {
   "cell_type": "code",
   "execution_count": 27,
   "metadata": {},
   "outputs": [
    {
     "name": "stdout",
     "output_type": "stream",
     "text": [
      "EAS_EpiAnno:-0.007659714219782954 , same:7352 , diff:4862\n",
      "EAS:-0.5893876768584285\n"
     ]
    }
   ],
   "source": [
    "#metric computation\n",
    "origin_label = np.unique(train_adata.obs[\"Label\"].values)\n",
    "test_adata.obs['pred_label'] = le.inverse_transform(test_pred_label)\n",
    "test_embedding = AnnData(test_embedding,obs=test_adata.obs)\n",
    "test_prob_select = test_prob[np.arange(0,len(test_pred_label)),test_pred_label]\n",
    "test_embedding.obs[\"score\"] = test_prob_select\n",
    "test_pred_label[test_prob_select < 0.5] = class_dim\n",
    "print(\"EAS_EpiAnno:{} , same:{} , diff:{}\".format(*compute_EAS_EpiAnno(y_pred=test_pred_label,origin_label=origin_label,y_true = test_adata.obs[\"Label\"].values)))\n",
    "print(\"EAS:{}\".format(compute_EAS(y_pred=test_pred_label,y_true = test_adata.obs[\"Label\"].values,unknown=class_dim)))"
   ]
  },
  {
   "cell_type": "code",
   "execution_count": 28,
   "metadata": {},
   "outputs": [],
   "source": [
    "#save result\n",
    "test_embedding.write('../final_result/' + save_path +\"_test_embedding.h5ad\")"
   ]
  }
 ],
 "metadata": {
  "kernelspec": {
   "display_name": "atac_self",
   "language": "python",
   "name": "python3"
  },
  "language_info": {
   "codemirror_mode": {
    "name": "ipython",
    "version": 3
   },
   "file_extension": ".py",
   "mimetype": "text/x-python",
   "name": "python",
   "nbconvert_exporter": "python",
   "pygments_lexer": "ipython3",
   "version": "3.9.12"
  }
 },
 "nbformat": 4,
 "nbformat_minor": 2
}
